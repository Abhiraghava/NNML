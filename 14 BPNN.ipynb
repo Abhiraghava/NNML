{
  "metadata": {
    "language_info": {
      "codemirror_mode": {
        "name": "python",
        "version": 3
      },
      "file_extension": ".py",
      "mimetype": "text/x-python",
      "name": "python",
      "nbconvert_exporter": "python",
      "pygments_lexer": "ipython3",
      "version": "3.8"
    },
    "kernelspec": {
      "name": "python",
      "display_name": "Python (Pyodide)",
      "language": "python"
    }
  },
  "nbformat_minor": 4,
  "nbformat": 4,
  "cells": [
    {
      "cell_type": "code",
      "source": "import numpy as np\n",
      "metadata": {
        "trusted": true
      },
      "execution_count": 1,
      "outputs": []
    },
    {
      "cell_type": "code",
      "source": "def sigmoid(x):\n    return 1 / (1 + np.exp(-x))",
      "metadata": {
        "trusted": true
      },
      "execution_count": 2,
      "outputs": []
    },
    {
      "cell_type": "code",
      "source": "def sigmoid_derivative(x):\n    return x * (1 - x)",
      "metadata": {
        "trusted": true
      },
      "execution_count": 3,
      "outputs": []
    },
    {
      "cell_type": "code",
      "source": "X = np.array([[0,0,1],\n              [0,1,1],\n              [1,0,1],\n              [1,1,1]])\nX",
      "metadata": {
        "trusted": true
      },
      "execution_count": 10,
      "outputs": [
        {
          "execution_count": 10,
          "output_type": "execute_result",
          "data": {
            "text/plain": "array([[0, 0, 1],\n       [0, 1, 1],\n       [1, 0, 1],\n       [1, 1, 1]])"
          },
          "metadata": {}
        }
      ]
    },
    {
      "cell_type": "code",
      "source": "y = np.array([[0],\n              [1],\n              [1],\n              [0]])\ny",
      "metadata": {
        "trusted": true
      },
      "execution_count": 11,
      "outputs": [
        {
          "execution_count": 11,
          "output_type": "execute_result",
          "data": {
            "text/plain": "array([[0],\n       [1],\n       [1],\n       [0]])"
          },
          "metadata": {}
        }
      ]
    },
    {
      "cell_type": "code",
      "source": "np.random.seed(1)",
      "metadata": {
        "trusted": true
      },
      "execution_count": 6,
      "outputs": []
    },
    {
      "cell_type": "code",
      "source": "weights_0 = 2 * np.random.random((3, 4)) - 1\nweights_1 = 2 * np.random.random((4, 1)) - 1",
      "metadata": {
        "trusted": true
      },
      "execution_count": 7,
      "outputs": []
    },
    {
      "cell_type": "code",
      "source": "num_iterations = 60000",
      "metadata": {
        "trusted": true
      },
      "execution_count": 8,
      "outputs": []
    },
    {
      "cell_type": "code",
      "source": "learning_rate = 0.1",
      "metadata": {
        "trusted": true
      },
      "execution_count": 9,
      "outputs": []
    },
    {
      "cell_type": "code",
      "source": "# Train the network\nfor i in range(num_iterations):\n    \n    # Forward propagation\n    layer_0 = X\n    layer_1 = sigmoid(np.dot(layer_0, weights_0))\n    layer_2 = sigmoid(np.dot(layer_1, weights_1))\n    \n    # Backpropagation\n    layer_2_error = y - layer_2\n    layer_2_delta = layer_2_error * sigmoid_derivative(layer_2)\n    layer_1_error = layer_2_delta.dot(weights_1.T)\n    layer_1_delta = layer_1_error * sigmoid_derivative(layer_1)\n    \n    # Update the weights\n    weights_1 += learning_rate * layer_1.T.dot(layer_2_delta)\n    weights_0 += learning_rate * layer_0.T.dot(layer_1_delta)",
      "metadata": {
        "trusted": true
      },
      "execution_count": 13,
      "outputs": []
    },
    {
      "cell_type": "code",
      "source": "print(layer_2)",
      "metadata": {
        "trusted": true
      },
      "execution_count": 14,
      "outputs": [
        {
          "name": "stdout",
          "text": "[[0.00952977]\n [0.98778644]\n [0.98943064]\n [0.01421274]]\n",
          "output_type": "stream"
        }
      ]
    },
    {
      "cell_type": "code",
      "source": "",
      "metadata": {},
      "execution_count": null,
      "outputs": []
    }
  ]
}