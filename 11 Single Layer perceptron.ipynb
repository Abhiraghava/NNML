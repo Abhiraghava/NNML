{
 "cells": [
  {
   "cell_type": "code",
   "execution_count": 1,
   "id": "33d662b6",
   "metadata": {},
   "outputs": [],
   "source": [
    "#name:AKSHITHA VUYYURU\n",
    "#REGNO:RA2111047010172\n",
    "import numpy as np"
   ]
  },
  {
   "cell_type": "code",
   "execution_count": 2,
   "id": "716e500e",
   "metadata": {},
   "outputs": [],
   "source": [
    "def perceptron(X, y, learning_rate=0.1, n_iterations=100):\n",
    "    weights = np.zeros(X.shape[1])\n",
    "    bias = 0\n",
    "    \n",
    "    for i in range(n_iterations):\n",
    "        for j in range(X.shape[0]):\n",
    "            output = np.dot(X[j], weights) + bias\n",
    "            prediction = 1 if output >= 0 else 0\n",
    "    \n",
    "            error = y[j] - prediction\n",
    "            weights += learning_rate * error * X[j]\n",
    "            bias += learning_rate * error\n",
    "    \n",
    "    return weights, bias"
   ]
  },
  {
   "cell_type": "code",
   "execution_count": 3,
   "id": "f48da194",
   "metadata": {},
   "outputs": [],
   "source": [
    "X = np.array([[1, 1], [-1, -1], [2, 2], [-2, -2]])\n",
    "y = np.array([1, 0, 1, 0])"
   ]
  },
  {
   "cell_type": "code",
   "execution_count": 4,
   "id": "77c7ba12",
   "metadata": {},
   "outputs": [
    {
     "data": {
      "text/plain": [
       "array([[ 1,  1],\n",
       "       [-1, -1],\n",
       "       [ 2,  2],\n",
       "       [-2, -2]])"
      ]
     },
     "execution_count": 4,
     "metadata": {},
     "output_type": "execute_result"
    }
   ],
   "source": [
    "X"
   ]
  },
  {
   "cell_type": "code",
   "execution_count": 5,
   "id": "e66f1ea4",
   "metadata": {},
   "outputs": [
    {
     "data": {
      "text/plain": [
       "array([1, 0, 1, 0])"
      ]
     },
     "execution_count": 5,
     "metadata": {},
     "output_type": "execute_result"
    }
   ],
   "source": [
    "y"
   ]
  },
  {
   "cell_type": "code",
   "execution_count": 6,
   "id": "0300ca44",
   "metadata": {},
   "outputs": [],
   "source": [
    "weights, bias = perceptron(X, y)"
   ]
  },
  {
   "cell_type": "code",
   "execution_count": 7,
   "id": "281d6617",
   "metadata": {},
   "outputs": [],
   "source": [
    "new_data = np.array([[1, 1], [-1, -1]])\n",
    "output = np.dot(new_data, weights) + bias\n",
    "predictions = np.where(output >= 0, 1, 0)"
   ]
  },
  {
   "cell_type": "code",
   "execution_count": 8,
   "id": "e250dff0",
   "metadata": {},
   "outputs": [
    {
     "name": "stdout",
     "output_type": "stream",
     "text": [
      "[1 0]\n"
     ]
    }
   ],
   "source": [
    "print(predictions)"
   ]
  },
  {
   "cell_type": "code",
   "execution_count": null,
   "id": "c25fac1f",
   "metadata": {},
   "outputs": [],
   "source": []
  }
 ],
 "metadata": {
  "kernelspec": {
   "display_name": "Python 3 (ipykernel)",
   "language": "python",
   "name": "python3"
  },
  "language_info": {
   "codemirror_mode": {
    "name": "ipython",
    "version": 3
   },
   "file_extension": ".py",
   "mimetype": "text/x-python",
   "name": "python",
   "nbconvert_exporter": "python",
   "pygments_lexer": "ipython3",
   "version": "3.9.12"
  }
 },
 "nbformat": 4,
 "nbformat_minor": 5
}
