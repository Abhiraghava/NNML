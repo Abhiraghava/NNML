{
  "cells": [
    {
      "cell_type": "code",
      "execution_count": null,
      "id": "744750c5",
      "metadata": {
        "id": "744750c5"
      },
      "outputs": [],
      "source": [
        "import numpy as np\n",
        "import matplotlib.pyplot as plt"
      ]
    },
    {
      "cell_type": "code",
      "execution_count": null,
      "id": "2bbc4187",
      "metadata": {
        "id": "2bbc4187"
      },
      "outputs": [],
      "source": [
        "class Perceptron:\n",
        "    def __init__(self, input_size, learning_rate=0.1, num_iterations=100):\n",
        "        self.weights = np.zeros(input_size + 1)\n",
        "        self.lr = learning_rate\n",
        "        self.num_iterations = num_iterations\n",
        "    \n",
        "    def activation_function(self, x):\n",
        "        return x\n",
        "    \n",
        "    def predict(self, x):\n",
        "        z = np.dot(x, self.weights[1:]) + self.weights[0]\n",
        "        return self.activation_function(z)\n",
        "    \n",
        "    def fit(self, X, y):\n",
        "        for i in range(self.num_iterations):\n",
        "            for j in range(len(X)):\n",
        "                x = X[j]\n",
        "                y_pred = self.predict(x)\n",
        "                error = y[j] - y_pred\n",
        "                self.weights[1:] += self.lr * error * x\n",
        "                self.weights[0] += self.lr * error"
      ]
    },
    {
      "cell_type": "code",
      "execution_count": null,
      "id": "29f77ebf",
      "metadata": {
        "id": "29f77ebf",
        "outputId": "15aee29e-908f-43e7-9fdc-4eaf3977b0ef"
      },
      "outputs": [
        {
          "data": {
            "text/plain": [
              "array([[ 1,  1],\n",
              "       [ 2,  2],\n",
              "       [ 3,  3],\n",
              "       [ 4,  4],\n",
              "       [ 5,  5],\n",
              "       [ 6,  6],\n",
              "       [ 7,  7],\n",
              "       [ 8,  8],\n",
              "       [ 9,  9],\n",
              "       [10, 10]])"
            ]
          },
          "execution_count": 4,
          "metadata": {},
          "output_type": "execute_result"
        }
      ],
      "source": [
        "X = np.array([[1, 1], [2, 2], [3, 3], [4, 4], [5, 5], [6, 6], [7, 7], [8, 8], [9, 9], [10, 10]])\n",
        "y = np.array([1, 2, 3, 4, 5, 6, 7, 8, 9, 10])\n",
        "X"
      ]
    },
    {
      "cell_type": "code",
      "execution_count": null,
      "id": "dd29b727",
      "metadata": {
        "id": "dd29b727",
        "outputId": "1e5d3f06-cff2-4e55-8f22-7f989ca7f360"
      },
      "outputs": [
        {
          "data": {
            "text/plain": [
              "array([ 1,  2,  3,  4,  5,  6,  7,  8,  9, 10])"
            ]
          },
          "execution_count": 5,
          "metadata": {},
          "output_type": "execute_result"
        }
      ],
      "source": [
        "y"
      ]
    },
    {
      "cell_type": "code",
      "execution_count": null,
      "id": "16cc0658",
      "metadata": {
        "id": "16cc0658",
        "outputId": "e2a536c8-aabb-48c8-df22-ca8b609b3a52"
      },
      "outputs": [
        {
          "name": "stderr",
          "output_type": "stream",
          "text": [
            "C:\\Users\\91767\\AppData\\Local\\Temp\\ipykernel_1880\\1693465980.py:20: RuntimeWarning: invalid value encountered in add\n",
            "  self.weights[1:] += self.lr * error * x\n",
            "C:\\Users\\91767\\AppData\\Local\\Temp\\ipykernel_1880\\1693465980.py:21: RuntimeWarning: invalid value encountered in double_scalars\n",
            "  self.weights[0] += self.lr * error\n"
          ]
        }
      ],
      "source": [
        "perceptron = Perceptron(input_size=2)\n",
        "perceptron.fit(X, y)"
      ]
    },
    {
      "cell_type": "code",
      "execution_count": null,
      "id": "7d9aeb11",
      "metadata": {
        "id": "7d9aeb11",
        "outputId": "6c6aca31-c34a-4a66-9553-9fe508f6515e"
      },
      "outputs": [
        {
          "data": {
            "image/png": "[encoded data removed]",
            "text/plain": [
              "<Figure size 432x288 with 1 Axes>"
            ]
          },
          "metadata": {
            "needs_background": "light"
          },
          "output_type": "display_data"
        }
      ],
      "source": [
        "plt.scatter(X[:,0], y, color='red')\n",
        "plt.plot(X[:,0], perceptron.predict(X), color='blue')\n",
        "plt.show()"
      ]
    },
    {
      "cell_type": "code",
      "execution_count": null,
      "id": "bd38de7b",
      "metadata": {
        "id": "bd38de7b"
      },
      "outputs": [],
      "source": []
    }
  ],
  "metadata": {
    "kernelspec": {
      "display_name": "Python 3 (ipykernel)",
      "language": "python",
      "name": "python3"
    },
    "language_info": {
      "codemirror_mode": {
        "name": "ipython",
        "version": 3
      },
      "file_extension": ".py",
      "mimetype": "text/x-python",
      "name": "python",
      "nbconvert_exporter": "python",
      "pygments_lexer": "ipython3",
      "version": "3.9.12"
    },
    "colab": {
      "provenance": []
    }
  },
  "nbformat": 4,
  "nbformat_minor": 5
}